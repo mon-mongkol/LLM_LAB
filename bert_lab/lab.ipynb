{
 "cells": [
  {
   "cell_type": "code",
   "execution_count": null,
   "metadata": {},
   "outputs": [],
   "source": [
    "from transformers import pipeline  #mask test\n",
    "\n",
    "unmasker = pipeline('fill-mask', model='bert-base-multilingual-cased')\n",
    "\n",
    "unmasker(\"ชนิดประโยคในภาษา [MASK] มีอะไรบ้าง\")\n"
   ]
  },
  {
   "cell_type": "code",
   "execution_count": null,
   "metadata": {},
   "outputs": [],
   "source": [
    "from transformers import pipeline\n",
    "\n",
    "classifier = pipeline(\"text-classification\", model=\"./ecommerce_model\", tokenizer=\"./ecommerce_model\")\n",
    "\n",
    "text = \"มีสินค้าในสต๊อกไหม\"\n",
    "result = classifier(text)\n",
    "print(result)"
   ]
  },
  {
   "cell_type": "code",
   "execution_count": null,
   "metadata": {},
   "outputs": [],
   "source": [
    "import pandas as pd\n",
    "\n",
    "# Sample dataset for e-commerce chat classification\n",
    "data = {\n",
    "    \"text\": [\n",
    "        \"What is the price of iPhone?\",\n",
    "        \"สินค้าหมดเมื่อไหร่จะมาอีก?\",\n",
    "        \"I want to cancel my order.\",\n",
    "        \"ต้องการเปลี่ยนที่อยู่จัดส่ง\",\n",
    "        \"How can I track my order?\",\n",
    "        \"ได้รับสินค้าผิดชิ้น\",\n",
    "        \"The product is damaged.\",\n",
    "        \"ขอคืนเงิน\",\n",
    "        \"I want to give feedback.\",\n",
    "        \"บริการลูกค้าแย่มาก\"\n",
    "    ],\n",
    "    \"label\": [\n",
    "        \"Product Inquiry\",\n",
    "        \"Product Inquiry\",\n",
    "        \"Order Management\",\n",
    "        \"Order Management\",\n",
    "        \"Order Management\",\n",
    "        \"Customer Support\",\n",
    "        \"Customer Support\",\n",
    "        \"Customer Support\",\n",
    "        \"Feedback & Complaints\",\n",
    "        \"Feedback & Complaints\"\n",
    "    ]\n",
    "}\n",
    "\n",
    "# Create DataFrame\n",
    "df = pd.DataFrame(data)\n",
    "\n",
    "# Save to CSV\n",
    "file_path = \"ecommerce_chat_dataset.csv\"\n",
    "df.to_csv(file_path, index=False)\n",
    "\n",
    "file_path\n"
   ]
  }
 ],
 "metadata": {
  "language_info": {
   "name": "python"
  }
 },
 "nbformat": 4,
 "nbformat_minor": 2
}
